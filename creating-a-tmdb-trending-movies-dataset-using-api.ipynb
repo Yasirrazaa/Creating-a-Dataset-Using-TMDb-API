{
 "cells": [
  {
   "cell_type": "code",
   "execution_count": 1,
   "id": "941c79da",
   "metadata": {
    "execution": {
     "iopub.execute_input": "2022-08-21T09:58:10.087364Z",
     "iopub.status.busy": "2022-08-21T09:58:10.086857Z",
     "iopub.status.idle": "2022-08-21T09:58:10.101620Z",
     "shell.execute_reply": "2022-08-21T09:58:10.100301Z"
    },
    "papermill": {
     "duration": 0.023849,
     "end_time": "2022-08-21T09:58:10.105049",
     "exception": false,
     "start_time": "2022-08-21T09:58:10.081200",
     "status": "completed"
    },
    "tags": []
   },
   "outputs": [],
   "source": [
    "import pandas as pd\n",
    "import requests as r\n",
    "import json"
   ]
  },
  {
   "cell_type": "code",
   "execution_count": 2,
   "id": "5de261f9",
   "metadata": {
    "execution": {
     "iopub.execute_input": "2022-08-21T09:58:10.117630Z",
     "iopub.status.busy": "2022-08-21T09:58:10.114942Z",
     "iopub.status.idle": "2022-08-21T09:58:11.306797Z",
     "shell.execute_reply": "2022-08-21T09:58:11.305803Z"
    },
    "papermill": {
     "duration": 1.199858,
     "end_time": "2022-08-21T09:58:11.309872",
     "exception": false,
     "start_time": "2022-08-21T09:58:10.110014",
     "status": "completed"
    },
    "tags": []
   },
   "outputs": [],
   "source": [
    "\n",
    "response=r.get('https://api.themoviedb.org/3/trending/movie/week?api_key=your api_key')"
   ]
  },
  {
   "cell_type": "code",
   "execution_count": 3,
   "id": "c4d904c0",
   "metadata": {
    "execution": {
     "iopub.execute_input": "2022-08-21T09:58:11.317607Z",
     "iopub.status.busy": "2022-08-21T09:58:11.317190Z",
     "iopub.status.idle": "2022-08-21T09:58:11.387191Z",
     "shell.execute_reply": "2022-08-21T09:58:11.385518Z"
    },
    "papermill": {
     "duration": 0.076604,
     "end_time": "2022-08-21T09:58:11.389460",
     "exception": true,
     "start_time": "2022-08-21T09:58:11.312856",
     "status": "failed"
    },
    "tags": []
   },
   "outputs": [
    {
     "ename": "KeyError",
     "evalue": "'results'",
     "output_type": "error",
     "traceback": [
      "\u001b[0;31m---------------------------------------------------------------------------\u001b[0m",
      "\u001b[0;31mKeyError\u001b[0m                                  Traceback (most recent call last)",
      "\u001b[0;32m/tmp/ipykernel_19/3888193178.py\u001b[0m in \u001b[0;36m<module>\u001b[0;34m\u001b[0m\n\u001b[0;32m----> 1\u001b[0;31m \u001b[0mtemp_df\u001b[0m\u001b[0;34m=\u001b[0m\u001b[0mpd\u001b[0m\u001b[0;34m.\u001b[0m\u001b[0mDataFrame\u001b[0m\u001b[0;34m(\u001b[0m\u001b[0mresponse\u001b[0m\u001b[0;34m.\u001b[0m\u001b[0mjson\u001b[0m\u001b[0;34m(\u001b[0m\u001b[0;34m)\u001b[0m\u001b[0;34m[\u001b[0m\u001b[0;34m'results'\u001b[0m\u001b[0;34m]\u001b[0m\u001b[0;34m)\u001b[0m\u001b[0;34m[\u001b[0m\u001b[0;34m[\u001b[0m\u001b[0;34m'id'\u001b[0m\u001b[0;34m,\u001b[0m\u001b[0;34m'title'\u001b[0m\u001b[0;34m,\u001b[0m\u001b[0;34m'original_language'\u001b[0m\u001b[0;34m,\u001b[0m\u001b[0;34m'original_title'\u001b[0m\u001b[0;34m,\u001b[0m\u001b[0;34m'overview'\u001b[0m\u001b[0;34m,\u001b[0m\u001b[0;34m'genre_ids'\u001b[0m\u001b[0;34m,\u001b[0m\u001b[0;34m'popularity'\u001b[0m\u001b[0;34m,\u001b[0m\u001b[0;34m'release_date'\u001b[0m\u001b[0;34m,\u001b[0m\u001b[0;34m'vote_average'\u001b[0m\u001b[0;34m,\u001b[0m\u001b[0;34m'vote_count'\u001b[0m\u001b[0;34m]\u001b[0m\u001b[0;34m]\u001b[0m\u001b[0;34m\u001b[0m\u001b[0;34m\u001b[0m\u001b[0m\n\u001b[0m",
      "\u001b[0;31mKeyError\u001b[0m: 'results'"
     ]
    }
   ],
   "source": [
    "temp_df=pd.DataFrame(response.json()['results'])[['id','title','original_language','original_title','overview','genre_ids','popularity','release_date','vote_average','vote_count']]"
   ]
  },
  {
   "cell_type": "code",
   "execution_count": null,
   "id": "85ff1c1f",
   "metadata": {
    "papermill": {
     "duration": null,
     "end_time": null,
     "exception": null,
     "start_time": null,
     "status": "pending"
    },
    "tags": []
   },
   "outputs": [],
   "source": [
    "temp_df.head()"
   ]
  },
  {
   "cell_type": "code",
   "execution_count": null,
   "id": "523fbbcb",
   "metadata": {
    "papermill": {
     "duration": null,
     "end_time": null,
     "exception": null,
     "start_time": null,
     "status": "pending"
    },
    "tags": []
   },
   "outputs": [],
   "source": [
    "df=pd.DataFrame()"
   ]
  },
  {
   "cell_type": "code",
   "execution_count": null,
   "id": "caaf1920",
   "metadata": {
    "papermill": {
     "duration": null,
     "end_time": null,
     "exception": null,
     "start_time": null,
     "status": "pending"
    },
    "tags": []
   },
   "outputs": [],
   "source": [
    "df"
   ]
  },
  {
   "cell_type": "code",
   "execution_count": null,
   "id": "6d19ed6f",
   "metadata": {
    "papermill": {
     "duration": null,
     "end_time": null,
     "exception": null,
     "start_time": null,
     "status": "pending"
    },
    "tags": []
   },
   "outputs": [],
   "source": [
    "for i in range(1,1000):\n",
    "    resp = r.get('https://api.themoviedb.org/3/trending/movie/week?api_key=your api_key&page={}'.format(i))\n",
    "    temp_df = pd.DataFrame(resp.json()['results'])[['id','title','original_language','original_title','overview','genre_ids','popularity','release_date','vote_average','vote_count']]\n",
    "    df = df.append(temp_df) "
   ]
  },
  {
   "cell_type": "code",
   "execution_count": null,
   "id": "1bb580ee",
   "metadata": {
    "papermill": {
     "duration": null,
     "end_time": null,
     "exception": null,
     "start_time": null,
     "status": "pending"
    },
    "tags": []
   },
   "outputs": [],
   "source": [
    "df.shape"
   ]
  },
  {
   "cell_type": "code",
   "execution_count": null,
   "id": "2a854ffa",
   "metadata": {
    "papermill": {
     "duration": null,
     "end_time": null,
     "exception": null,
     "start_time": null,
     "status": "pending"
    },
    "tags": []
   },
   "outputs": [],
   "source": [
    "df.to_csv(\"TMDbTrendingMovies.csv\",index=False)"
   ]
  },
  {
   "cell_type": "code",
   "execution_count": null,
   "id": "92806573",
   "metadata": {
    "papermill": {
     "duration": null,
     "end_time": null,
     "exception": null,
     "start_time": null,
     "status": "pending"
    },
    "tags": []
   },
   "outputs": [],
   "source": []
  }
 ],
 "metadata": {
  "kernelspec": {
   "display_name": "Python 3",
   "language": "python",
   "name": "python3"
  },
  "language_info": {
   "codemirror_mode": {
    "name": "ipython",
    "version": 3
   },
   "file_extension": ".py",
   "mimetype": "text/x-python",
   "name": "python",
   "nbconvert_exporter": "python",
   "pygments_lexer": "ipython3",
   "version": "3.7.12"
  },
  "papermill": {
   "default_parameters": {},
   "duration": 11.641347,
   "end_time": "2022-08-21T09:58:12.215801",
   "environment_variables": {},
   "exception": true,
   "input_path": "__notebook__.ipynb",
   "output_path": "__notebook__.ipynb",
   "parameters": {},
   "start_time": "2022-08-21T09:58:00.574454",
   "version": "2.3.4"
  }
 },
 "nbformat": 4,
 "nbformat_minor": 5
}
